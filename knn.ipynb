{
  "nbformat": 4,
  "nbformat_minor": 0,
  "metadata": {
    "colab": {
      "name": "knn.ipynb",
      "provenance": [],
      "collapsed_sections": []
    },
    "kernelspec": {
      "name": "python3",
      "display_name": "Python 3"
    }
  },
  "cells": [
    {
      "cell_type": "code",
      "metadata": {
        "id": "hwKqsoeaB__9"
      },
      "source": [
        "import numpy as np\n",
        "import sklearn\n",
        "import sklearn.datasets as ds\n",
        "import sklearn.model_selection as ms\n",
        "from sklearn.model_selection import train_test_split\n",
        "import sklearn.neighbors as nb\n",
        "import matplotlib.pyplot as plt\n",
        "%matplotlib inline"
      ],
      "execution_count": null,
      "outputs": []
    },
    {
      "cell_type": "code",
      "metadata": {
        "colab": {
          "base_uri": "https://localhost:8080/"
        },
        "id": "867kTh8gCGqI",
        "outputId": "24fa07a3-5198-4df9-c3c5-c3123996ecd9"
      },
      "source": [
        "from sklearn.datasets import load_digits\n",
        "digits = load_digits(n_class=10, return_X_y=False)\n",
        "n_classes = len(np.unique(digits.target))\n",
        "print(\"nombre de classes : \",n_classes)\n",
        "print(digits.DESCR)\n"
      ],
      "execution_count": null,
      "outputs": [
        {
          "output_type": "stream",
          "text": [
            "nombre de classes :  10\n",
            ".. _digits_dataset:\n",
            "\n",
            "Optical recognition of handwritten digits dataset\n",
            "--------------------------------------------------\n",
            "\n",
            "**Data Set Characteristics:**\n",
            "\n",
            "    :Number of Instances: 5620\n",
            "    :Number of Attributes: 64\n",
            "    :Attribute Information: 8x8 image of integer pixels in the range 0..16.\n",
            "    :Missing Attribute Values: None\n",
            "    :Creator: E. Alpaydin (alpaydin '@' boun.edu.tr)\n",
            "    :Date: July; 1998\n",
            "\n",
            "This is a copy of the test set of the UCI ML hand-written digits datasets\n",
            "https://archive.ics.uci.edu/ml/datasets/Optical+Recognition+of+Handwritten+Digits\n",
            "\n",
            "The data set contains images of hand-written digits: 10 classes where\n",
            "each class refers to a digit.\n",
            "\n",
            "Preprocessing programs made available by NIST were used to extract\n",
            "normalized bitmaps of handwritten digits from a preprinted form. From a\n",
            "total of 43 people, 30 contributed to the training set and different 13\n",
            "to the test set. 32x32 bitmaps are divided into nonoverlapping blocks of\n",
            "4x4 and the number of on pixels are counted in each block. This generates\n",
            "an input matrix of 8x8 where each element is an integer in the range\n",
            "0..16. This reduces dimensionality and gives invariance to small\n",
            "distortions.\n",
            "\n",
            "For info on NIST preprocessing routines, see M. D. Garris, J. L. Blue, G.\n",
            "T. Candela, D. L. Dimmick, J. Geist, P. J. Grother, S. A. Janet, and C.\n",
            "L. Wilson, NIST Form-Based Handprint Recognition System, NISTIR 5469,\n",
            "1994.\n",
            "\n",
            ".. topic:: References\n",
            "\n",
            "  - C. Kaynak (1995) Methods of Combining Multiple Classifiers and Their\n",
            "    Applications to Handwritten Digit Recognition, MSc Thesis, Institute of\n",
            "    Graduate Studies in Science and Engineering, Bogazici University.\n",
            "  - E. Alpaydin, C. Kaynak (1998) Cascading Classifiers, Kybernetika.\n",
            "  - Ken Tang and Ponnuthurai N. Suganthan and Xi Yao and A. Kai Qin.\n",
            "    Linear dimensionalityreduction using relevance weighted LDA. School of\n",
            "    Electrical and Electronic Engineering Nanyang Technological University.\n",
            "    2005.\n",
            "  - Claudio Gentile. A New Approximate Maximal Margin Classification\n",
            "    Algorithm. NIPS. 2000.\n"
          ],
          "name": "stdout"
        }
      ]
    },
    {
      "cell_type": "code",
      "metadata": {
        "colab": {
          "base_uri": "https://localhost:8080/"
        },
        "id": "ITa1IKJ-FhoA",
        "outputId": "e8016423-42e8-46d6-ec33-288e42d859e0"
      },
      "source": [
        "print (digits.data.shape)"
      ],
      "execution_count": null,
      "outputs": [
        {
          "output_type": "stream",
          "text": [
            "(1797, 64)\n"
          ],
          "name": "stdout"
        }
      ]
    },
    {
      "cell_type": "markdown",
      "metadata": {
        "id": "jC61sl7dGKA2"
      },
      "source": [
        "64=8x8x1-----> On l'utilisera apres"
      ]
    },
    {
      "cell_type": "code",
      "metadata": {
        "colab": {
          "base_uri": "https://localhost:8080/",
          "height": 292
        },
        "id": "UPBmdxSbTO2p",
        "outputId": "2e440817-4dd4-4885-d2d2-4d2228cb1d7e"
      },
      "source": [
        "plt.gray() \n",
        "plt.matshow(digits.images[0]) \n",
        "plt.show() "
      ],
      "execution_count": null,
      "outputs": [
        {
          "output_type": "display_data",
          "data": {
            "text/plain": [
              "<Figure size 432x288 with 0 Axes>"
            ]
          },
          "metadata": {
            "tags": []
          }
        },
        {
          "output_type": "display_data",
          "data": {
            "image/png": "[encoded data removed]",
            "text/plain": [
              "<Figure size 288x288 with 1 Axes>"
            ]
          },
          "metadata": {
            "tags": [],
            "needs_background": "light"
          }
        }
      ]
    },
    {
      "cell_type": "code",
      "metadata": {
        "id": "Ff51RPiMSxrp"
      },
      "source": [
        "X_train,X_test,y_train,y_test=train_test_split(digits.data,digits.target,test_size=0.3)"
      ],
      "execution_count": null,
      "outputs": []
    },
    {
      "cell_type": "code",
      "metadata": {
        "colab": {
          "base_uri": "https://localhost:8080/"
        },
        "id": "prq09seBDngT",
        "outputId": "10e95332-909d-42b9-e34c-0f1c5ffabb49"
      },
      "source": [
        "print('Training data shape: ', X_train.shape)\n",
        "print('Testing data shape : ', X_test.shape)"
      ],
      "execution_count": null,
      "outputs": [
        {
          "output_type": "stream",
          "text": [
            "Training data shape:  (1257, 64)\n",
            "Testing data shape :  (540, 64)\n"
          ],
          "name": "stdout"
        }
      ]
    },
    {
      "cell_type": "code",
      "metadata": {
        "colab": {
          "base_uri": "https://localhost:8080/",
          "height": 1000
        },
        "id": "PXjLeULm8bYU",
        "outputId": "ace50ed2-2334-4b9b-8805-68a504ad26f6"
      },
      "source": [
        "from sklearn import neighbors\n",
        "import time\n",
        "#Varier le K\n",
        "for k in range(1, 10, 2):\n",
        "    start_time = time.time()\n",
        "    knn = neighbors.KNeighborsClassifier(n_neighbors=k)\n",
        "    knn.fit(X_train, y_train)\n",
        "    print(\"--------------------------------------------------------------------------------------------------------------------\")\n",
        "    print(\"--------------------------------------------------------------------------------------------------------------------\")\n",
        "    print(\"k==>\",k)\n",
        "    from sklearn.metrics import recall_score\n",
        "\n",
        "    #y_true et y_predicted\n",
        "    y_true,y_pred = y_test,knn.predict(X_test)\n",
        "    img_rows, img_cols = 8,8 #64=8*8\n",
        "    images = X_test.reshape((-1,img_rows, img_cols))#Reshape\n",
        "\n",
        "    # selectionner un echantillon de 12 images au hasard\n",
        "    select = np.random.randint(images.shape[0], size=12)\n",
        "\n",
        "    # On affiche les images avec la prédiction associée\n",
        "    fig,ax = plt.subplots(3,4)\n",
        "\n",
        "    for index, value in enumerate(select):\n",
        "        plt.subplot(3,4,index+1)\n",
        "        plt.axis('off')\n",
        "        plt.imshow(images[value],cmap=plt.cm.gray_r,interpolation=\"nearest\")\n",
        "        plt.title('Predicted: {}'.format( y_pred[value]) )\n",
        "\n",
        "    plt.show()\n",
        "    #calcul du temps d'execution\n",
        "    print(\"--- Temps d'execution :  %s seconds ---\" % (time.time() - start_time))\n",
        "    #calcul de la precision et du rappel\n",
        "    from sklearn.metrics import recall_score, precision_score\n",
        "    print(\"Precision score: {}\".format(precision_score(y_true,y_pred,average=None)))\n",
        "    print(\"Recall score: {}\".format(recall_score(y_true,y_pred,average=None)))\n"
      ],
      "execution_count": null,
      "outputs": [
        {
          "output_type": "stream",
          "text": [
            "--------------------------------------------------------------------------------------------------------------------\n",
            "--------------------------------------------------------------------------------------------------------------------\n",
            "k==> 1\n"
          ],
          "name": "stdout"
        },
        {
          "output_type": "display_data",
          "data": {
            "image/png": "[encoded data removed]",
            "text/plain": [
              "<Figure size 432x288 with 12 Axes>"
            ]
          },
          "metadata": {
            "tags": [],
            "needs_background": "light"
          }
        },
        {
          "output_type": "stream",
          "text": [
            "--- Temps d'execution :  0.7041308879852295 seconds ---\n",
            "Precision score: [1.         0.96610169 1.         0.96610169 0.98305085 1.\n",
            " 0.98245614 1.         0.95652174 0.96078431]\n",
            "Recall score: [1.         1.         0.97674419 1.         1.         0.96226415\n",
            " 1.         1.         0.93617021 0.9245283 ]\n",
            "--------------------------------------------------------------------------------------------------------------------\n",
            "--------------------------------------------------------------------------------------------------------------------\n",
            "k==> 3\n"
          ],
          "name": "stdout"
        },
        {
          "output_type": "display_data",
          "data": {
            "image/png": "[encoded data removed]",
            "text/plain": [
              "<Figure size 432x288 with 12 Axes>"
            ]
          },
          "metadata": {
            "tags": [],
            "needs_background": "light"
          }
        },
        {
          "output_type": "stream",
          "text": [
            "--- Temps d'execution :  0.5447695255279541 seconds ---\n",
            "Precision score: [1.         0.98275862 1.         1.         0.98305085 0.98076923\n",
            " 0.98214286 1.         0.93877551 0.98      ]\n",
            "Recall score: [1.         1.         1.         1.         1.         0.96226415\n",
            " 0.98214286 1.         0.9787234  0.9245283 ]\n",
            "--------------------------------------------------------------------------------------------------------------------\n",
            "--------------------------------------------------------------------------------------------------------------------\n",
            "k==> 5\n"
          ],
          "name": "stdout"
        },
        {
          "output_type": "display_data",
          "data": {
            "image/png": "[encoded data removed]",
            "text/plain": [
              "<Figure size 432x288 with 12 Axes>"
            ]
          },
          "metadata": {
            "tags": [],
            "needs_background": "light"
          }
        },
        {
          "output_type": "stream",
          "text": [
            "--- Temps d'execution :  0.6640253067016602 seconds ---\n",
            "Precision score: [1.         0.98275862 1.         0.98245614 0.98305085 0.98113208\n",
            " 0.98214286 0.96721311 0.93617021 0.98      ]\n",
            "Recall score: [1.         1.         0.97674419 0.98245614 1.         0.98113208\n",
            " 0.98214286 1.         0.93617021 0.9245283 ]\n",
            "--------------------------------------------------------------------------------------------------------------------\n",
            "--------------------------------------------------------------------------------------------------------------------\n",
            "k==> 7\n"
          ],
          "name": "stdout"
        },
        {
          "output_type": "display_data",
          "data": {
            "image/png": "[encoded data removed]",
            "text/plain": [
              "<Figure size 432x288 with 12 Axes>"
            ]
          },
          "metadata": {
            "tags": [],
            "needs_background": "light"
          }
        },
        {
          "output_type": "stream",
          "text": [
            "--- Temps d'execution :  0.5614874362945557 seconds ---\n",
            "Precision score: [1.         0.93442623 1.         0.98245614 0.98305085 0.98076923\n",
            " 0.98214286 0.96721311 0.95555556 0.96      ]\n",
            "Recall score: [1.         1.         0.97674419 0.98245614 1.         0.96226415\n",
            " 0.98214286 1.         0.91489362 0.90566038]\n",
            "--------------------------------------------------------------------------------------------------------------------\n",
            "--------------------------------------------------------------------------------------------------------------------\n",
            "k==> 9\n"
          ],
          "name": "stdout"
        },
        {
          "output_type": "display_data",
          "data": {
            "image/png": "[encoded data removed]",
            "text/plain": [
              "<Figure size 432x288 with 12 Axes>"
            ]
          },
          "metadata": {
            "tags": [],
            "needs_background": "light"
          }
        },
        {
          "output_type": "stream",
          "text": [
            "--- Temps d'execution :  0.6787080764770508 seconds ---\n",
            "Precision score: [1.         0.9047619  0.93333333 0.98214286 0.98305085 0.96226415\n",
            " 0.98214286 0.96721311 0.975      0.96      ]\n",
            "Recall score: [1.         1.         0.97674419 0.96491228 1.         0.96226415\n",
            " 0.98214286 1.         0.82978723 0.90566038]\n"
          ],
          "name": "stdout"
        }
      ]
    }
  ]
}